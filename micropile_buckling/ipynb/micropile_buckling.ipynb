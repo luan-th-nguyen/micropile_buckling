{
 "cells": [
  {
   "cell_type": "code",
   "execution_count": 22,
   "source": [
    "import numpy as np\r\n",
    "from matplotlib import pyplot as plt"
   ],
   "outputs": [],
   "metadata": {}
  },
  {
   "cell_type": "markdown",
   "source": [
    "# Methods for cross-section parameters"
   ],
   "metadata": {}
  },
  {
   "cell_type": "code",
   "execution_count": 23,
   "source": [
    "def get_cross_section_parameters_circular(d, D, E, fy):\r\n",
    "    \"\"\" Gets parameters for a full circular cross-sections\r\n",
    "    d: steel bar diameter [mm]\r\n",
    "    D: pile shaft diameter [mm]\r\n",
    "    E: Young's modulus of steel [N/mm^2]\r\n",
    "    fy: characteristic yield stress [N/mm^2]\r\n",
    "    fyA: characteristic resistance of the full cross-section [kN]\r\n",
    "    \"\"\"\r\n",
    "    A = np.pi/4*d**2\t\t    # [mm^2]\r\n",
    "    I = np.pi/4*(d*0.1/2)**4\t# [cm^4]\r\n",
    "    EI = E*I*1.0e-5\t\t        # [kNm^2]\r\n",
    "    fyA = fy*A*1.0e-3\t\t    # [kN]\r\n",
    "    return A, I, EI, fyA\r\n",
    "\r\n",
    "def get_cross_section_parameters_tube(d, t, D, E, fy):\r\n",
    "    \"\"\" Gets parameters for a hollow tube cross-section\r\n",
    "    d: steel bar diameter [mm]\r\n",
    "    t: thickness of the steel tube\r\n",
    "    D: pile shaft diameter [mm]\r\n",
    "    E: Young's modulus of steel [N/mm^2]\r\n",
    "    fy: characteristic yield stress [N/mm^2]\r\n",
    "    fyA: characteristic resistance of the full cross-section [kN]\r\n",
    "    \"\"\"\r\n",
    "    A = np.pi*((d/2)**2 - ((d-2*t)/2)**2)\t            # [mm^2]\r\n",
    "    I = np.pi/4*((d*0.1/2)**4 - ((d-2*t)*0.1/2)**4)\t    # [cm^4]\r\n",
    "    EI = E*I*1.0e-5\t\t                        # [kNm^2]\r\n",
    "    fyA = fy*A*1.0e-3\t\t                    # [kN]\r\n",
    "    return A, I, EI, fyA"
   ],
   "outputs": [],
   "metadata": {}
  },
  {
   "cell_type": "markdown",
   "source": [
    "# Methods for p-y curves"
   ],
   "metadata": {}
  },
  {
   "cell_type": "code",
   "execution_count": 24,
   "source": [
    "def get_w_f_elastoplastic_eq1(D, c_u):\r\n",
    "    \"\"\" Gets pile lateral displacement at yield (p-y curve)\r\n",
    "    c_u: soil undrained shear strength [kN/m^2]\r\n",
    "    D: pile shaft diameter\r\n",
    "    \"\"\"\r\n",
    "    w_f = 0.2/(c_u**0.4)*D\r\n",
    "    return w_f\r\n",
    "\r\n",
    "def get_p_f_elastoplastic_eq2(c_u):\r\n",
    "    \"\"\" Gets stress from lateral soil resistance at yield (p-y curve)\r\n",
    "    This approximation is used for piles having smooth surface.\r\n",
    "    Formula from Randolph and Houlsby. The limitting pressure on a circular pile loaded laterally in cohesive soil. Geotechnique 34 (1984).\r\n",
    "    \"\"\"\r\n",
    "    p_f = (6 + np.pi)*c_u\r\n",
    "    return p_f # kN/m^2\r\n",
    "\r\n",
    "def get_p_f_elastoplastic_eq3(c_u):\r\n",
    "    \"\"\" Gets stress from lateral soil resistance at yield (p-y curve)\r\n",
    "    This approximation is used for piles having rough surface.\r\n",
    "    Formula from Randolph and Houlsby. The limitting pressure on a circular pile loaded laterally in cohesive soil. Geotechnique 34 (1984).\r\n",
    "    \"\"\"\r\n",
    "    p_f = (4*2*0.5 + 2*np.pi)*c_u\r\n",
    "    return p_f # kN/m^2\r\n",
    "\r\n",
    "def get_p_f_elastoplastic_eq4(c_u):\r\n",
    "    \"\"\" Gets stress from lateral soil resistance at yield (p-y curve)\r\n",
    "    This approximation is used for piles with potenial damages: the circumferential contact between soil and pile is not full.\r\n",
    "    Formula from Wenz. Das Knicken von schlanken Pfählen in weichen bindigen Erdstoffen. Institute für Bodenmechnik und Felsmechanik Universität Fridericiana Karlsruhe 1972.\r\n",
    "    \"\"\"\r\n",
    "    p_f = (2 + 2*np.pi)*c_u\r\n",
    "    return p_f # kN/m^2"
   ],
   "outputs": [],
   "metadata": {}
  },
  {
   "cell_type": "markdown",
   "source": [
    "# Methods for bifurcation load\n",
    "Vogt, N., & Vogt, S. (2013). Biegeknickwiderstand von Mikropfählen gemäß den Eurocodes. Bautechnik, 90(9), 550-558."
   ],
   "metadata": {}
  },
  {
   "cell_type": "code",
   "execution_count": 25,
   "source": [
    "def e0_eq8(Lcr,k_imp):\r\n",
    "    \"\"\"Calculates predeformaion with Lcr\"\"\"\r\n",
    "    e0 = (Lcr/2)* np.tan(0.5*np.arcsin(Lcr/2*(k_imp)))\r\n",
    "    return e0\r\n",
    "\r\n",
    "def N_cr_eq7(w_f, EI, p_f, D, k_imp, Lcr):\r\n",
    "    \"\"\"Calculates Branching Load Ncr\"\"\"\r\n",
    "    e0 = e0_eq8(Lcr,k_imp)\r\n",
    "    Ncr = ((w_f*EI*(np.pi/Lcr)**2)+(p_f*D*(Lcr/np.pi)**2))/(w_f+e0)\r\n",
    "    return Ncr\r\n",
    "\r\n",
    "def get_Ncr_by_iteration(w_f, EI, p_f, D, k_imp, L):\r\n",
    "    \"\"\" Calculates the Lcr to achieve minimum value of Ncr\r\n",
    "    EI : Modulus of elasiticty multiplied by moment of Inertia of the bar\r\n",
    "    L: Lenth of the driven pile [m]\r\n",
    "    w_f: pile laterial deflection [m]\r\n",
    "    D: pile shaft diameter [m]\r\n",
    "    \"\"\"\r\n",
    "    L_step = L/50\r\n",
    "    Lcr = L_step;Ncr = 10**20\r\n",
    "    while Lcr < L:\r\n",
    "        temp = N_cr_eq7(w_f, EI, p_f, D, k_imp, Lcr)\r\n",
    "        if temp<Ncr:\r\n",
    "            Ncr = temp\r\n",
    "            Lcrd = Lcr\r\n",
    "        Lcr += L_step\r\n",
    "    return (Lcrd, Ncr)"
   ],
   "outputs": [],
   "metadata": {}
  },
  {
   "cell_type": "markdown",
   "source": [
    "# Methods for bucking resistance following EC3\n",
    "The value for imperfection factor alpha is dependent on the applied buckling curve.\n",
    "<img src=\"figs/imperfection_factor_alpha_EC3.png\">"
   ],
   "metadata": {}
  },
  {
   "cell_type": "code",
   "execution_count": 26,
   "source": [
    "\"\"\"DIN EN 1993 1-1 Table 6.1, please refer Table 6.2 in DIN EN 1993 1-1 for classification of Buckling classes\"\"\"\r\n",
    "ALPHA_BUCKLING_CURVES = {'a0': 0.13, 'a':0.21, 'b':0.34, 'c':0.49, 'd':0.76}\r\n",
    "\r\n",
    "def get_slenderness_lambda(fyA, Ncr):\r\n",
    "    \"\"\"Gets the non-dimensional slenderness lambda\"\"\"\r\n",
    "    lambda_ = (fyA/Ncr)**0.5\r\n",
    "    return lambda_\r\n",
    "\r\n",
    "def get_phi_factor(lambda_, buckling_curve='c'):\r\n",
    "    \"\"\" Gets the phi factor\"\"\"\r\n",
    "    alpha = ALPHA_BUCKLING_CURVES[buckling_curve]\r\n",
    "    phi = 0.5*(1+(alpha*(lambda_ - 0.2)) + lambda_**2)\r\n",
    "    return phi\r\n",
    "\r\n",
    "def get_reduction_factor_psi(phi, lambda_):\r\n",
    "    \"\"\" Gets the reduction factor psi\"\"\"\r\n",
    "    psi = 1/(phi+(phi**2-lambda_**2)**0.5)\r\n",
    "    return psi\r\n",
    "\r\n",
    "def get_buckling_resistance(psi, fyA, gamma_M=1.1):\r\n",
    "    \"\"\" Gets the cross-sectional buckling resistance\"\"\"\r\n",
    "    Nb_Rd = psi*fyA/gamma_M\r\n",
    "    return Nb_Rd\r\n",
    "\r\n",
    "def get_Nb_Rd_EC3(fyA, Ncr, buckling_curve='c', gamma_M=1.1):\r\n",
    "    \"\"\" get cross-sectional buckling resistance after EC3\"\"\"\r\n",
    "    lambda_ = get_slenderness_lambda(fyA, Ncr)\r\n",
    "    phi = get_phi_factor(lambda_, buckling_curve)\r\n",
    "    psi = get_reduction_factor_psi(phi, lambda_)\r\n",
    "    Nb_Rd = get_buckling_resistance(psi, fyA, gamma_M)\r\n",
    "    return Nb_Rd\r\n",
    "\r\n",
    "def get_Nb_Rd_DIBt(L, D, EI, fyA, c_u, buckling_curve='c', gamma_M=1.1):\r\n",
    "    \"\"\" get cross-sectional buckling resistance after DIBt-Zulassung\r\n",
    "    D: pile shaft diameter [mm]\"\"\"\r\n",
    "    p_f = 6*c_u             # [kN/m^2]\r\n",
    "    w_f = 0.1*D             # [mm]\r\n",
    "    k_imp = 1/200\t        # [m]\r\n",
    "    Lcr, Ncr = get_Ncr_by_iteration(w_f*0.001, EI, p_f, D*0.001, k_imp, L)\r\n",
    "    if c_u < 10:    # no lateral soil support\r\n",
    "        Ncr = EI*(np.pi/L)**2\r\n",
    "        Nb_Rd = get_Nb_Rd_EC3(fyA, Ncr, buckling_curve, gamma_M)\r\n",
    "    elif c_u <= 30:\r\n",
    "        Nb_Rd = get_Nb_Rd_EC3(fyA, Ncr, buckling_curve, gamma_M)\r\n",
    "    else:\r\n",
    "        Nb_Rd = fyA/gamma_M\r\n",
    "    return Nb_Rd"
   ],
   "outputs": [],
   "metadata": {}
  },
  {
   "cell_type": "markdown",
   "source": [
    "# Putting things together"
   ],
   "metadata": {}
  },
  {
   "cell_type": "code",
   "execution_count": 27,
   "source": [
    "def display_micropile_buckling_resistance(D, EI, fyA, k_imp, L, p_f, c_u, Nb_Rd, buckling_curve, gamma_M):\r\n",
    "    \"\"\" Gets final results\"\"\"\r\n",
    "    # Data generation and plotting\r\n",
    "    c_u_array = np.linspace(1, 120, 120)\r\n",
    "    w_f_array = get_w_f_elastoplastic_eq1(D, c_u_array)\r\n",
    "    p_f_array = get_p_f_elastoplastic_eq2(c_u_array)\r\n",
    "    Ncr_array = np.zeros_like(c_u_array)\r\n",
    "    Nb_Rd_EC3_array = np.zeros_like(c_u_array)\r\n",
    "    Nb_Rd_DIBt_array = np.zeros_like(c_u_array)\r\n",
    "    #print(Ncr_array)\r\n",
    "    for i in range(Ncr_array.size):\r\n",
    "        _, Ncr_i = get_Ncr_by_iteration(w_f_array[i]*0.001, EI, p_f_array[i], D*0.001, k_imp, L)\r\n",
    "        Ncr_array[i] = Ncr_i\r\n",
    "    \r\n",
    "        # get cross-sectional buckling resistance after EC3\r\n",
    "        Nb_Rd_EC3_i = get_Nb_Rd_EC3(fyA, Ncr_i, buckling_curve, gamma_M=1.1)\r\n",
    "        Nb_Rd_DIBt_i = get_Nb_Rd_DIBt(L, D, EI, fyA, c_u_array[i], buckling_curve, gamma_M=1.1)\r\n",
    "        Nb_Rd_EC3_array[i] = Nb_Rd_EC3_i\r\n",
    "        Nb_Rd_DIBt_array[i] = Nb_Rd_DIBt_i\r\n",
    "    \r\n",
    "    #print(Nb_Rd_array)\r\n",
    "    \r\n",
    "    fig, ax = plt.subplots()\r\n",
    "    ax.plot(c_u_array, Nb_Rd_EC3_array, c='orange', label='calculated')\r\n",
    "    ax.plot(c_u_array, Nb_Rd_DIBt_array, c='blue', label='DIBt-Zulassung')\r\n",
    "    ax.legend()\r\n",
    "    ax.scatter(c_u, Nb_Rd, c='red')\r\n",
    "    ax.set_title(\"1/kappa = {0:.0f} [m]; p_f = {1:.1f} * c_u; buckling curve='{2}'\".format(1/k_imp, p_f/c_u, buckling_curve))\r\n",
    "    ax.set_xlabel('Undrained shear strength c_u [kN/m^2]')\r\n",
    "    ax.set_ylabel('Design resistance against bucking Nb_Rd [kN]')"
   ],
   "outputs": [],
   "metadata": {}
  },
  {
   "cell_type": "markdown",
   "source": [
    "# Example 1\n",
    "Vogt, S., & Vogt, N. (2013). Nachweis zum Biegeknickwiderstand im drainierten und undrainierten Fall sowie im Fall Seitendruck."
   ],
   "metadata": {}
  },
  {
   "cell_type": "code",
   "execution_count": 28,
   "source": [
    "d, D, E, fy = 50, 270, 200000, 500\r\n",
    "A, I, EI, fyA = get_cross_section_parameters_circular(d, D, E, fy)\r\n",
    "print('CROSS-SECTIONAL PARAMETERS')\r\n",
    "print('A = {0:.2f} [mm^2]; I = {1:.2f} [cm^4]; EI = {2:.2f} [kNm^2]; fyA = {3:.2f} [kN]\\n'.format(A, I, EI, fyA))\r\n",
    "\r\n",
    "# Seeton, undrained shear strength c_u = 10 kN/m^2\r\n",
    "c_u = 10 # kN/m^2\r\n",
    "w_f = get_w_f_elastoplastic_eq1(D, c_u)\r\n",
    "#p_f = get_p_f_elastoplastic_eq2(c_u)\r\n",
    "p_f = 10.5*c_u\r\n",
    "print('MAXIMAL MOBILIZED LATERAL DISPLACEMENT AND STRESS (SOIL-PILE INTERACTION)')\r\n",
    "print('c_u = {0:.2f} [kN/m^2]'.format(c_u))\r\n",
    "print('w_f = {0:.2f} [mm]'.format(w_f))\r\n",
    "print('p_f = {0:.2f} [kN/m^2]\\n'.format(p_f))\r\n",
    "\r\n",
    "# Micropile length and buckling parameters\r\n",
    "L = 8 \t\t# [m]\r\n",
    "k_imp = 1/200\t# [m]\r\n",
    "buckling_curve = 'c'    # {a0, a, b, c, d}, buckling curves in Figure 6.4, EC3\r\n",
    "gamma_M = 1.1\r\n",
    "\r\n",
    "# Buckling resistance check for the given c_u value\r\n",
    "Lcr, Ncr = get_Ncr_by_iteration(w_f*0.001, EI, p_f, D*0.001, k_imp, L)\r\n",
    "# get cross-sectional buckling resistance after EC3\r\n",
    "Nb_Rd = get_Nb_Rd_EC3(fyA, Ncr, buckling_curve, gamma_M)\r\n",
    "print('DESIGN RESISTANCE AGAINST BUCKLING')\r\n",
    "print('Lcr = {0:.2f} [m]; Ncr = {1:.2f} [kN]'.format(Lcr, Ncr))\r\n",
    "print('Nb_Rd = {0:.2f} [kN]'.format(Nb_Rd))\r\n",
    "\r\n",
    "# Data generation and plotting\r\n",
    "display_micropile_buckling_resistance(D, EI, fyA, k_imp, L, p_f, c_u, Nb_Rd, buckling_curve, gamma_M)\r\n"
   ],
   "outputs": [
    {
     "output_type": "stream",
     "name": "stdout",
     "text": [
      "CROSS-SECTIONAL PARAMETERS\n",
      "A = 1963.50 [mm^2]; I = 30.68 [cm^4]; EI = 61.36 [kNm^2]; fyA = 981.75 [kN]\n",
      "\n",
      "MAXIMAL MOBILIZED LATERAL DISPLACEMENT AND STRESS (SOIL-PILE INTERACTION)\n",
      "c_u = 10.00 [kN/m^2]\n",
      "w_f = 21.50 [mm]\n",
      "p_f = 105.00 [kN/m^2]\n",
      "\n",
      "DESIGN RESISTANCE AGAINST BUCKLING\n",
      "Lcr = 1.44 [m]; Ncr = 536.76 [kN]\n",
      "Nb_Rd = 327.92 [kN]\n"
     ]
    },
    {
     "output_type": "display_data",
     "data": {
      "image/png": "[encoded data removed]",
      "text/plain": [
       "<Figure size 432x288 with 1 Axes>"
      ]
     },
     "metadata": {
      "needs_background": "light"
     }
    }
   ],
   "metadata": {}
  },
  {
   "cell_type": "markdown",
   "source": [],
   "metadata": {}
  },
  {
   "cell_type": "markdown",
   "source": [
    "# Example 2\n",
    "Vogt, S., & Vogt, N. (2013). Nachweis zum Biegeknickwiderstand im drainierten und undrainierten Fall sowie im Fall Seitendruck."
   ],
   "metadata": {}
  },
  {
   "cell_type": "code",
   "execution_count": 29,
   "source": [
    "d, t, D, E, fy = 273, 8, 273, 210000, 420\r\n",
    "A, I, EI, fyA = get_cross_section_parameters_tube(d, t, D, E, fy)\r\n",
    "print('CROSS-SECTIONAL PARAMETERS')\r\n",
    "print('A = {0:.2f} [mm^2]; I = {1:.2f} [cm^4]; EI = {2:.2f} [kNm^2]; fyA = {3:.2f} [kN]\\n'.format(A, I, EI, fyA))\r\n",
    "\r\n",
    "# Seeton, undrained shear strength c_u = 10 kN/m^2\r\n",
    "c_u = 10 # kN/m^2\r\n",
    "w_f = get_w_f_elastoplastic_eq1(D, c_u)\r\n",
    "#p_f = get_p_f_elastoplastic_eq2(c_u)\r\n",
    "p_f = 10.5*c_u\r\n",
    "print('MAXIMAL MOBILIZED LATERAL DISPLACEMENT AND STRESS (SOIL-PILE INTERACTION)')\r\n",
    "print('c_u = {0:.2f} [kN/m^2]'.format(c_u))\r\n",
    "print('w_f = {0:.2f} [mm]'.format(w_f))\r\n",
    "print('p_f = {0:.2f} [kN/m^2]\\n'.format(p_f))\r\n",
    "\r\n",
    "# Micropile length and buckling parameters\r\n",
    "#L = 15 \t\t# [m]\r\n",
    "#k_imp = 1/200\t# [m]\r\n",
    "buckling_curve = 'a'    # {a0, a, b, c, d}, buckling curves in Figure 6.4, EC3\r\n",
    "\r\n",
    "# Buckling resistance check for the given c_u value\r\n",
    "Lcr = 8 # lateral soil support is not considered\r\n",
    "Ncr = EI*(np.pi/Lcr)**2\r\n",
    "# get cross-sectional buckling resistance after EC3\r\n",
    "Nb_Rd = get_Nb_Rd_EC3(fyA, Ncr, buckling_curve, gamma_M=1.1)\r\n",
    "print('DESIGN RESISTANCE AGAINST BUCKLING')\r\n",
    "print('Lcr = {0:.2f} [m]; Ncr = {1:.2f} [kN]'.format(Lcr, Ncr))\r\n",
    "print('Nb_Rd = {0:.2f} [kN]'.format(Nb_Rd))"
   ],
   "outputs": [
    {
     "output_type": "stream",
     "name": "stdout",
     "text": [
      "CROSS-SECTIONAL PARAMETERS\n",
      "A = 6660.18 [mm^2]; I = 5851.71 [cm^4]; EI = 12288.60 [kNm^2]; fyA = 2797.27 [kN]\n",
      "\n",
      "MAXIMAL MOBILIZED LATERAL DISPLACEMENT AND STRESS (SOIL-PILE INTERACTION)\n",
      "c_u = 10.00 [kN/m^2]\n",
      "w_f = 21.74 [mm]\n",
      "p_f = 105.00 [kN/m^2]\n",
      "\n",
      "DESIGN RESISTANCE AGAINST BUCKLING\n",
      "Lcr = 8.00 [m]; Ncr = 1895.06 [kN]\n",
      "Nb_Rd = 1323.97 [kN]\n"
     ]
    }
   ],
   "metadata": {}
  }
 ],
 "metadata": {
  "interpreter": {
   "hash": "9979ec7437d00b7526d327018fd9bc1ebe2c7a092f32f2383231c59a830b7c0b"
  },
  "kernelspec": {
   "name": "python3",
   "display_name": "Python 3.7.10 64-bit ('py37': conda)"
  },
  "language_info": {
   "codemirror_mode": {
    "name": "ipython",
    "version": 3
   },
   "file_extension": ".py",
   "mimetype": "text/x-python",
   "name": "python",
   "nbconvert_exporter": "python",
   "pygments_lexer": "ipython3",
   "version": "3.7.10"
  }
 },
 "nbformat": 4,
 "nbformat_minor": 4
}